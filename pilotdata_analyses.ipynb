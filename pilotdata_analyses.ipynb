{
 "cells": [
  {
   "cell_type": "markdown",
   "id": "9ae4136f",
   "metadata": {},
   "source": [
    "#### Download packages"
   ]
  },
  {
   "cell_type": "code",
   "execution_count": 19,
   "id": "cc121fce",
   "metadata": {},
   "outputs": [],
   "source": [
    "import numpy as np\n",
    "import pandas as pd\n",
    "import os\n",
    "import openpyxl\n",
    "import statsmodels.api as sm\n",
    "import statsmodels.formula.api as smf\n",
    "import warnings\n",
    "warnings.filterwarnings(\"ignore\", category=UserWarning, module=\"openpyxl\")\n",
    "#print(\"Current working directory:\", os.getcwd())\n"
   ]
  },
  {
   "cell_type": "code",
   "execution_count": 20,
   "id": "544dbbe5",
   "metadata": {},
   "outputs": [],
   "source": [
    "import sys\n",
    "#print(f\"Python version: {sys.version}\")\n",
    "#print(f\"Interpreter: {sys.executable}\")\n",
    "#print(f\"Virtual environment: {sys.prefix}\")"
   ]
  },
  {
   "cell_type": "markdown",
   "id": "a6440187",
   "metadata": {},
   "source": [
    "#### Import data files"
   ]
  },
  {
   "cell_type": "code",
   "execution_count": 3,
   "id": "d79e4b69",
   "metadata": {},
   "outputs": [
    {
     "name": "stdout",
     "output_type": "stream",
     "text": [
      "Length of df_italy: 8760\n",
      "Length of df_prolific: 8240\n",
      "Columns of df_italy: Index(['ID', 't', 'd0_s1', 'impr', 'warm', 'comp', 'valence', 'statval',\n",
      "       'statnum', 'statval.1', 'statnum.1', 'statchar', 'Itemtype', 'itemnum',\n",
      "       'Meanval1', 'Meanval2'],\n",
      "      dtype='object')\n",
      "Columns of df_prolific: Index(['Unnamed: 0', 'ID', 't', 'd0_s1', 'impr', 'warm', 'comp', 'statval',\n",
      "       'statnum', 'itemtype', 'x1', 'x2', 'x3', 'x4', 'x5', 'x6', 'x7', 'x8',\n",
      "       'itemnum', 'Meanval1', 'Meanval2', 'int_lag', 'int_fwd'],\n",
      "      dtype='object')\n"
     ]
    }
   ],
   "source": [
    "# Importing files\n",
    "path_sample_01 = \"./data/sample_italy.xlsx\"\n",
    "path_sample_02 = \"./data/sample_prolific.csv\"\n",
    "\n",
    "# Import df_llama and df_annotations\n",
    "df_italy = pd.read_excel(path_sample_01)\n",
    "df_prolific = pd.read_csv(path_sample_02)\n",
    "\n",
    "print(f\"Length of df_italy: {len(df_italy)}\")\n",
    "print(f\"Length of df_prolific: {len(df_prolific)}\")\n",
    "\n",
    "print(f\"Columns of df_italy: {df_italy.columns}\")\n",
    "print(f\"Columns of df_prolific: {df_prolific.columns}\")\n"
   ]
  },
  {
   "cell_type": "code",
   "execution_count": 4,
   "id": "28e50813",
   "metadata": {},
   "outputs": [
    {
     "name": "stdout",
     "output_type": "stream",
     "text": [
      "219\n",
      "206\n"
     ]
    }
   ],
   "source": [
    "print(len(df_italy['ID'].unique()))\n",
    "print(len(df_prolific['ID'].unique()))"
   ]
  },
  {
   "cell_type": "markdown",
   "id": "beb610f5",
   "metadata": {},
   "source": [
    "#### Print statistics"
   ]
  },
  {
   "cell_type": "code",
   "execution_count": 5,
   "id": "1df746f0",
   "metadata": {},
   "outputs": [
    {
     "data": {
      "text/html": [
       "<div>\n",
       "<style scoped>\n",
       "    .dataframe tbody tr th:only-of-type {\n",
       "        vertical-align: middle;\n",
       "    }\n",
       "\n",
       "    .dataframe tbody tr th {\n",
       "        vertical-align: top;\n",
       "    }\n",
       "\n",
       "    .dataframe thead tr th {\n",
       "        text-align: left;\n",
       "    }\n",
       "\n",
       "    .dataframe thead tr:last-of-type th {\n",
       "        text-align: right;\n",
       "    }\n",
       "</style>\n",
       "<table border=\"1\" class=\"dataframe\">\n",
       "  <thead>\n",
       "    <tr>\n",
       "      <th></th>\n",
       "      <th></th>\n",
       "      <th colspan=\"2\" halign=\"left\">impr</th>\n",
       "      <th colspan=\"2\" halign=\"left\">warm</th>\n",
       "      <th colspan=\"2\" halign=\"left\">comp</th>\n",
       "    </tr>\n",
       "    <tr>\n",
       "      <th></th>\n",
       "      <th></th>\n",
       "      <th>mean</th>\n",
       "      <th>std</th>\n",
       "      <th>mean</th>\n",
       "      <th>std</th>\n",
       "      <th>mean</th>\n",
       "      <th>std</th>\n",
       "    </tr>\n",
       "    <tr>\n",
       "      <th>d0_s1</th>\n",
       "      <th>statval.1</th>\n",
       "      <th></th>\n",
       "      <th></th>\n",
       "      <th></th>\n",
       "      <th></th>\n",
       "      <th></th>\n",
       "      <th></th>\n",
       "    </tr>\n",
       "  </thead>\n",
       "  <tbody>\n",
       "    <tr>\n",
       "      <th rowspan=\"3\" valign=\"top\">0</th>\n",
       "      <th>-1</th>\n",
       "      <td>-1.361030</td>\n",
       "      <td>1.492817</td>\n",
       "      <td>-1.047264</td>\n",
       "      <td>1.534472</td>\n",
       "      <td>-1.220698</td>\n",
       "      <td>1.470032</td>\n",
       "    </tr>\n",
       "    <tr>\n",
       "      <th>0</th>\n",
       "      <td>0.304155</td>\n",
       "      <td>1.196073</td>\n",
       "      <td>0.317354</td>\n",
       "      <td>1.129061</td>\n",
       "      <td>0.119899</td>\n",
       "      <td>1.119317</td>\n",
       "    </tr>\n",
       "    <tr>\n",
       "      <th>1</th>\n",
       "      <td>1.652393</td>\n",
       "      <td>1.352871</td>\n",
       "      <td>1.576115</td>\n",
       "      <td>1.301131</td>\n",
       "      <td>1.154431</td>\n",
       "      <td>1.373178</td>\n",
       "    </tr>\n",
       "    <tr>\n",
       "      <th rowspan=\"3\" valign=\"top\">1</th>\n",
       "      <th>-1</th>\n",
       "      <td>-1.323501</td>\n",
       "      <td>1.574137</td>\n",
       "      <td>-1.191969</td>\n",
       "      <td>1.521383</td>\n",
       "      <td>-0.982884</td>\n",
       "      <td>1.640785</td>\n",
       "    </tr>\n",
       "    <tr>\n",
       "      <th>0</th>\n",
       "      <td>0.188333</td>\n",
       "      <td>1.318938</td>\n",
       "      <td>0.040185</td>\n",
       "      <td>1.218919</td>\n",
       "      <td>0.205370</td>\n",
       "      <td>1.269503</td>\n",
       "    </tr>\n",
       "    <tr>\n",
       "      <th>1</th>\n",
       "      <td>1.435041</td>\n",
       "      <td>1.512872</td>\n",
       "      <td>1.037772</td>\n",
       "      <td>1.535056</td>\n",
       "      <td>1.418432</td>\n",
       "      <td>1.458167</td>\n",
       "    </tr>\n",
       "  </tbody>\n",
       "</table>\n",
       "</div>"
      ],
      "text/plain": [
       "                     impr                warm                comp          \n",
       "                     mean       std      mean       std      mean       std\n",
       "d0_s1 statval.1                                                            \n",
       "0     -1        -1.361030  1.492817 -1.047264  1.534472 -1.220698  1.470032\n",
       "       0         0.304155  1.196073  0.317354  1.129061  0.119899  1.119317\n",
       "       1         1.652393  1.352871  1.576115  1.301131  1.154431  1.373178\n",
       "1     -1        -1.323501  1.574137 -1.191969  1.521383 -0.982884  1.640785\n",
       "       0         0.188333  1.318938  0.040185  1.218919  0.205370  1.269503\n",
       "       1         1.435041  1.512872  1.037772  1.535056  1.418432  1.458167"
      ]
     },
     "execution_count": 5,
     "metadata": {},
     "output_type": "execute_result"
    }
   ],
   "source": [
    "#Mean values for sample 1 (Italy)\n",
    "df_italy.groupby(['d0_s1','statval.1'])[['impr', 'warm', 'comp']].agg(['mean', 'std'])"
   ]
  },
  {
   "cell_type": "code",
   "execution_count": 6,
   "id": "23b600ae",
   "metadata": {},
   "outputs": [
    {
     "data": {
      "text/html": [
       "<div>\n",
       "<style scoped>\n",
       "    .dataframe tbody tr th:only-of-type {\n",
       "        vertical-align: middle;\n",
       "    }\n",
       "\n",
       "    .dataframe tbody tr th {\n",
       "        vertical-align: top;\n",
       "    }\n",
       "\n",
       "    .dataframe thead tr th {\n",
       "        text-align: left;\n",
       "    }\n",
       "\n",
       "    .dataframe thead tr:last-of-type th {\n",
       "        text-align: right;\n",
       "    }\n",
       "</style>\n",
       "<table border=\"1\" class=\"dataframe\">\n",
       "  <thead>\n",
       "    <tr>\n",
       "      <th></th>\n",
       "      <th></th>\n",
       "      <th colspan=\"2\" halign=\"left\">impr</th>\n",
       "      <th colspan=\"2\" halign=\"left\">warm</th>\n",
       "      <th colspan=\"2\" halign=\"left\">comp</th>\n",
       "    </tr>\n",
       "    <tr>\n",
       "      <th></th>\n",
       "      <th></th>\n",
       "      <th>mean</th>\n",
       "      <th>std</th>\n",
       "      <th>mean</th>\n",
       "      <th>std</th>\n",
       "      <th>mean</th>\n",
       "      <th>std</th>\n",
       "    </tr>\n",
       "    <tr>\n",
       "      <th>d0_s1</th>\n",
       "      <th>statval</th>\n",
       "      <th></th>\n",
       "      <th></th>\n",
       "      <th></th>\n",
       "      <th></th>\n",
       "      <th></th>\n",
       "      <th></th>\n",
       "    </tr>\n",
       "  </thead>\n",
       "  <tbody>\n",
       "    <tr>\n",
       "      <th rowspan=\"3\" valign=\"top\">0.0</th>\n",
       "      <th>-1</th>\n",
       "      <td>-1.673853</td>\n",
       "      <td>1.395042</td>\n",
       "      <td>-1.439035</td>\n",
       "      <td>1.450029</td>\n",
       "      <td>-1.582864</td>\n",
       "      <td>1.414718</td>\n",
       "    </tr>\n",
       "    <tr>\n",
       "      <th>0</th>\n",
       "      <td>-0.019721</td>\n",
       "      <td>1.274463</td>\n",
       "      <td>-0.074150</td>\n",
       "      <td>1.218875</td>\n",
       "      <td>-0.107864</td>\n",
       "      <td>1.225906</td>\n",
       "    </tr>\n",
       "    <tr>\n",
       "      <th>1</th>\n",
       "      <td>1.292945</td>\n",
       "      <td>1.741057</td>\n",
       "      <td>1.104499</td>\n",
       "      <td>1.714035</td>\n",
       "      <td>0.947444</td>\n",
       "      <td>1.752581</td>\n",
       "    </tr>\n",
       "    <tr>\n",
       "      <th rowspan=\"3\" valign=\"top\">1.0</th>\n",
       "      <th>-1</th>\n",
       "      <td>-1.177682</td>\n",
       "      <td>1.633904</td>\n",
       "      <td>-0.868519</td>\n",
       "      <td>1.656103</td>\n",
       "      <td>-0.978750</td>\n",
       "      <td>1.721837</td>\n",
       "    </tr>\n",
       "    <tr>\n",
       "      <th>0</th>\n",
       "      <td>0.331214</td>\n",
       "      <td>1.352537</td>\n",
       "      <td>0.364745</td>\n",
       "      <td>1.282799</td>\n",
       "      <td>0.304879</td>\n",
       "      <td>1.402173</td>\n",
       "    </tr>\n",
       "    <tr>\n",
       "      <th>1</th>\n",
       "      <td>1.382967</td>\n",
       "      <td>1.506898</td>\n",
       "      <td>1.278216</td>\n",
       "      <td>1.453700</td>\n",
       "      <td>1.099472</td>\n",
       "      <td>1.577869</td>\n",
       "    </tr>\n",
       "  </tbody>\n",
       "</table>\n",
       "</div>"
      ],
      "text/plain": [
       "                   impr                warm                comp          \n",
       "                   mean       std      mean       std      mean       std\n",
       "d0_s1 statval                                                            \n",
       "0.0   -1      -1.673853  1.395042 -1.439035  1.450029 -1.582864  1.414718\n",
       "       0      -0.019721  1.274463 -0.074150  1.218875 -0.107864  1.225906\n",
       "       1       1.292945  1.741057  1.104499  1.714035  0.947444  1.752581\n",
       "1.0   -1      -1.177682  1.633904 -0.868519  1.656103 -0.978750  1.721837\n",
       "       0       0.331214  1.352537  0.364745  1.282799  0.304879  1.402173\n",
       "       1       1.382967  1.506898  1.278216  1.453700  1.099472  1.577869"
      ]
     },
     "execution_count": 6,
     "metadata": {},
     "output_type": "execute_result"
    }
   ],
   "source": [
    "#Mean values for sample 2 (Prolific Academic)\n",
    "df_prolific.groupby(['d0_s1','statval'])[['impr', 'warm', 'comp']].agg(['mean', 'std'])"
   ]
  },
  {
   "cell_type": "code",
   "execution_count": 7,
   "id": "a82cae3e",
   "metadata": {},
   "outputs": [],
   "source": [
    "#Select columns from df_italy\n",
    "selection_italy = df_italy.loc[:, ['ID', 't', 'd0_s1', 'impr', 'warm', 'comp', 'statval.1']].copy()\n",
    "selection_italy = selection_italy.rename(columns = {'statval.1': 'statval'})\n",
    "\n",
    "#Create column with 'statval_quad' where negative =1, positive = 1, and neutral = -2.\n",
    "selection_italy['statval_quad'] = np.where(selection_italy['statval'] == -1, 1, np.where(selection_italy['statval'] == 0, -2, 1))\n",
    "\n",
    "#Include 'sample_italy_' with the ID values\n",
    "selection_italy['ID'] = 'sample_italy_' + selection_italy['ID'].astype(str)\n",
    "\n",
    "#Selection columns from df_prolific\n",
    "selection_prolific = df_prolific.loc[:, ['ID', 't', 'd0_s1', 'impr', 'warm', 'comp', 'statval']].copy()\n",
    "\n",
    "#Create column with 'statval_quad' where negative =1, positive = 1, and neutral = -2.\n",
    "selection_prolific['statval_quad'] = np.where(selection_prolific['statval'] == -1, 1, np.where(selection_prolific['statval'] == 0, -2, 1))\n",
    "\n",
    "#Include 'sample_prolific_' with the ID values\n",
    "selection_prolific['ID'] = 'sample_prolific_' + selection_prolific['ID'].astype(str)\n"
   ]
  },
  {
   "cell_type": "code",
   "execution_count": 8,
   "id": "1f29e08b",
   "metadata": {},
   "outputs": [
    {
     "name": "stdout",
     "output_type": "stream",
     "text": [
      "Length of selection_italy dataframe:8760\n",
      "Length of selection_prolific dataframe: 8240\n",
      "Index(['ID', 't', 'd0_s1', 'impr', 'warm', 'comp', 'statval', 'statval_quad'], dtype='object')\n",
      "Index(['ID', 't', 'd0_s1', 'impr', 'warm', 'comp', 'statval', 'statval_quad'], dtype='object')\n",
      "Total length of combined_data: 17000\n"
     ]
    }
   ],
   "source": [
    "#Print statements\n",
    "print(f\"Length of selection_italy dataframe:{len(selection_italy)}\")\n",
    "print(f\"Length of selection_prolific dataframe: {len(selection_prolific)}\")\n",
    "\n",
    "#Check if columns are the same\n",
    "print(selection_italy.columns)\n",
    "print(selection_prolific.columns)\n",
    "\n",
    "#Merge\n",
    "combined_data = pd.concat([selection_italy, selection_prolific])\n",
    "print(f\"Total length of combined_data: {len(combined_data)}\")"
   ]
  },
  {
   "cell_type": "code",
   "execution_count": 9,
   "id": "7fab2616",
   "metadata": {},
   "outputs": [
    {
     "data": {
      "text/html": [
       "<div>\n",
       "<style scoped>\n",
       "    .dataframe tbody tr th:only-of-type {\n",
       "        vertical-align: middle;\n",
       "    }\n",
       "\n",
       "    .dataframe tbody tr th {\n",
       "        vertical-align: top;\n",
       "    }\n",
       "\n",
       "    .dataframe thead tr th {\n",
       "        text-align: left;\n",
       "    }\n",
       "\n",
       "    .dataframe thead tr:last-of-type th {\n",
       "        text-align: right;\n",
       "    }\n",
       "</style>\n",
       "<table border=\"1\" class=\"dataframe\">\n",
       "  <thead>\n",
       "    <tr>\n",
       "      <th></th>\n",
       "      <th></th>\n",
       "      <th colspan=\"2\" halign=\"left\">impr</th>\n",
       "      <th colspan=\"2\" halign=\"left\">warm</th>\n",
       "      <th colspan=\"2\" halign=\"left\">comp</th>\n",
       "    </tr>\n",
       "    <tr>\n",
       "      <th></th>\n",
       "      <th></th>\n",
       "      <th>mean</th>\n",
       "      <th>std</th>\n",
       "      <th>mean</th>\n",
       "      <th>std</th>\n",
       "      <th>mean</th>\n",
       "      <th>std</th>\n",
       "    </tr>\n",
       "    <tr>\n",
       "      <th>d0_s1</th>\n",
       "      <th>statval</th>\n",
       "      <th></th>\n",
       "      <th></th>\n",
       "      <th></th>\n",
       "      <th></th>\n",
       "      <th></th>\n",
       "      <th></th>\n",
       "    </tr>\n",
       "  </thead>\n",
       "  <tbody>\n",
       "    <tr>\n",
       "      <th rowspan=\"3\" valign=\"top\">0.0</th>\n",
       "      <th>-1</th>\n",
       "      <td>-1.511595</td>\n",
       "      <td>1.454795</td>\n",
       "      <td>-1.235827</td>\n",
       "      <td>1.506978</td>\n",
       "      <td>-1.395012</td>\n",
       "      <td>1.454765</td>\n",
       "    </tr>\n",
       "    <tr>\n",
       "      <th>0</th>\n",
       "      <td>0.148271</td>\n",
       "      <td>1.244633</td>\n",
       "      <td>0.128919</td>\n",
       "      <td>1.189014</td>\n",
       "      <td>0.010275</td>\n",
       "      <td>1.177003</td>\n",
       "    </tr>\n",
       "    <tr>\n",
       "      <th>1</th>\n",
       "      <td>1.479442</td>\n",
       "      <td>1.561949</td>\n",
       "      <td>1.349194</td>\n",
       "      <td>1.531936</td>\n",
       "      <td>1.054838</td>\n",
       "      <td>1.570414</td>\n",
       "    </tr>\n",
       "    <tr>\n",
       "      <th rowspan=\"3\" valign=\"top\">1.0</th>\n",
       "      <th>-1</th>\n",
       "      <td>-1.252319</td>\n",
       "      <td>1.605009</td>\n",
       "      <td>-1.034030</td>\n",
       "      <td>1.596568</td>\n",
       "      <td>-0.980865</td>\n",
       "      <td>1.680602</td>\n",
       "    </tr>\n",
       "    <tr>\n",
       "      <th>0</th>\n",
       "      <td>0.258081</td>\n",
       "      <td>1.336959</td>\n",
       "      <td>0.198620</td>\n",
       "      <td>1.260627</td>\n",
       "      <td>0.253945</td>\n",
       "      <td>1.336442</td>\n",
       "    </tr>\n",
       "    <tr>\n",
       "      <th>1</th>\n",
       "      <td>1.409621</td>\n",
       "      <td>1.509959</td>\n",
       "      <td>1.155145</td>\n",
       "      <td>1.500496</td>\n",
       "      <td>1.262731</td>\n",
       "      <td>1.525909</td>\n",
       "    </tr>\n",
       "  </tbody>\n",
       "</table>\n",
       "</div>"
      ],
      "text/plain": [
       "                   impr                warm                comp          \n",
       "                   mean       std      mean       std      mean       std\n",
       "d0_s1 statval                                                            \n",
       "0.0   -1      -1.511595  1.454795 -1.235827  1.506978 -1.395012  1.454765\n",
       "       0       0.148271  1.244633  0.128919  1.189014  0.010275  1.177003\n",
       "       1       1.479442  1.561949  1.349194  1.531936  1.054838  1.570414\n",
       "1.0   -1      -1.252319  1.605009 -1.034030  1.596568 -0.980865  1.680602\n",
       "       0       0.258081  1.336959  0.198620  1.260627  0.253945  1.336442\n",
       "       1       1.409621  1.509959  1.155145  1.500496  1.262731  1.525909"
      ]
     },
     "execution_count": 9,
     "metadata": {},
     "output_type": "execute_result"
    }
   ],
   "source": [
    "#Print mean values of impression, warmth, competence per leader gender and statval\n",
    "combined_data.groupby(['d0_s1','statval'])[['impr', 'warm', 'comp']].agg(['mean', 'std'])"
   ]
  },
  {
   "cell_type": "markdown",
   "id": "b1f3eada",
   "metadata": {},
   "source": [
    "#### Hypothesis 1"
   ]
  },
  {
   "cell_type": "code",
   "execution_count": 10,
   "id": "8418def0",
   "metadata": {},
   "outputs": [
    {
     "name": "stdout",
     "output_type": "stream",
     "text": [
      "Length of baseline_data: 425\n"
     ]
    }
   ],
   "source": [
    "# Filter data for baseline measurement\n",
    "baseline_data = combined_data[combined_data['t'] == 1].copy()\n",
    "print(f\"Length of baseline_data: {len(baseline_data)}\")"
   ]
  },
  {
   "cell_type": "code",
   "execution_count": 11,
   "id": "c4d976ef",
   "metadata": {},
   "outputs": [
    {
     "name": "stdout",
     "output_type": "stream",
     "text": [
      "Model summary for impr:\n",
      "                            OLS Regression Results                            \n",
      "==============================================================================\n",
      "Dep. Variable:                   impr   R-squared:                       0.692\n",
      "Model:                            OLS   Adj. R-squared:                  0.688\n",
      "Method:                 Least Squares   F-statistic:                     188.0\n",
      "Date:                Sun, 04 May 2025   Prob (F-statistic):          1.19e-104\n",
      "Time:                        17:59:49   Log-Likelihood:                -651.50\n",
      "No. Observations:                 425   AIC:                             1315.\n",
      "Df Residuals:                     419   BIC:                             1339.\n",
      "Df Model:                           5                                         \n",
      "Covariance Type:            nonrobust                                         \n",
      "======================================================================================\n",
      "                         coef    std err          t      P>|t|      [0.025      0.975]\n",
      "--------------------------------------------------------------------------------------\n",
      "Intercept              0.3036      0.082      3.699      0.000       0.142       0.465\n",
      "d0_s1                  0.1456      0.119      1.226      0.221      -0.088       0.379\n",
      "statval                1.9083      0.086     22.207      0.000       1.739       2.077\n",
      "d0_s1:statval         -0.1255      0.121     -1.039      0.300      -0.363       0.112\n",
      "statval_quad          -0.1065      0.065     -1.629      0.104      -0.235       0.022\n",
      "d0_s1:statval_quad    -0.0211      0.096     -0.220      0.826      -0.210       0.168\n",
      "==============================================================================\n",
      "Omnibus:                       43.493   Durbin-Watson:                   1.927\n",
      "Prob(Omnibus):                  0.000   Jarque-Bera (JB):               72.113\n",
      "Skew:                           0.652   Prob(JB):                     2.19e-16\n",
      "Kurtosis:                       4.539   Cond. No.                         4.08\n",
      "==============================================================================\n",
      "\n",
      "Notes:\n",
      "[1] Standard Errors assume that the covariance matrix of the errors is correctly specified.\n",
      "\n",
      "\n",
      "Model summary for warm:\n",
      "                            OLS Regression Results                            \n",
      "==============================================================================\n",
      "Dep. Variable:                   warm   R-squared:                       0.505\n",
      "Model:                            OLS   Adj. R-squared:                  0.499\n",
      "Method:                 Least Squares   F-statistic:                     85.39\n",
      "Date:                Sun, 04 May 2025   Prob (F-statistic):           9.83e-62\n",
      "Time:                        17:59:49   Log-Likelihood:                -679.08\n",
      "No. Observations:                 425   AIC:                             1370.\n",
      "Df Residuals:                     419   BIC:                             1394.\n",
      "Df Model:                           5                                         \n",
      "Covariance Type:            nonrobust                                         \n",
      "======================================================================================\n",
      "                         coef    std err          t      P>|t|      [0.025      0.975]\n",
      "--------------------------------------------------------------------------------------\n",
      "Intercept              0.1736      0.088      1.982      0.048       0.001       0.346\n",
      "d0_s1                  0.1963      0.127      1.549      0.122      -0.053       0.445\n",
      "statval                1.4473      0.092     15.784      0.000       1.267       1.628\n",
      "d0_s1:statval         -0.2436      0.129     -1.889      0.060      -0.497       0.010\n",
      "statval_quad           0.0295      0.070      0.422      0.673      -0.108       0.167\n",
      "d0_s1:statval_quad    -0.0814      0.103     -0.794      0.428      -0.283       0.120\n",
      "==============================================================================\n",
      "Omnibus:                        5.237   Durbin-Watson:                   2.164\n",
      "Prob(Omnibus):                  0.073   Jarque-Bera (JB):                6.890\n",
      "Skew:                          -0.058   Prob(JB):                       0.0319\n",
      "Kurtosis:                       3.613   Cond. No.                         4.08\n",
      "==============================================================================\n",
      "\n",
      "Notes:\n",
      "[1] Standard Errors assume that the covariance matrix of the errors is correctly specified.\n",
      "\n",
      "\n",
      "Model summary for comp:\n",
      "                            OLS Regression Results                            \n",
      "==============================================================================\n",
      "Dep. Variable:                   comp   R-squared:                       0.496\n",
      "Model:                            OLS   Adj. R-squared:                  0.490\n",
      "Method:                 Least Squares   F-statistic:                     82.59\n",
      "Date:                Sun, 04 May 2025   Prob (F-statistic):           3.18e-60\n",
      "Time:                        17:59:49   Log-Likelihood:                -665.92\n",
      "No. Observations:                 425   AIC:                             1344.\n",
      "Df Residuals:                     419   BIC:                             1368.\n",
      "Df Model:                           5                                         \n",
      "Covariance Type:            nonrobust                                         \n",
      "======================================================================================\n",
      "                         coef    std err          t      P>|t|      [0.025      0.975]\n",
      "--------------------------------------------------------------------------------------\n",
      "Intercept              0.2985      0.085      3.516      0.000       0.132       0.465\n",
      "d0_s1                  0.1109      0.123      0.903      0.367      -0.131       0.352\n",
      "statval                1.2311      0.089     13.849      0.000       1.056       1.406\n",
      "d0_s1:statval          0.0695      0.125      0.556      0.578      -0.176       0.315\n",
      "statval_quad          -0.0560      0.068     -0.828      0.408      -0.189       0.077\n",
      "d0_s1:statval_quad    -0.0224      0.099     -0.225      0.822      -0.218       0.173\n",
      "==============================================================================\n",
      "Omnibus:                        4.832   Durbin-Watson:                   1.905\n",
      "Prob(Omnibus):                  0.089   Jarque-Bera (JB):                4.701\n",
      "Skew:                           0.256   Prob(JB):                       0.0953\n",
      "Kurtosis:                       3.060   Cond. No.                         4.08\n",
      "==============================================================================\n",
      "\n",
      "Notes:\n",
      "[1] Standard Errors assume that the covariance matrix of the errors is correctly specified.\n",
      "\n",
      "\n"
     ]
    }
   ],
   "source": [
    "# Define the outcome variables\n",
    "outcomes = ['impr', 'warm', 'comp']\n",
    "\n",
    "# Loop through each outcome variable\n",
    "for outcome in outcomes:\n",
    "    # Define the model formula\n",
    "    formula = f\"{outcome} ~ d0_s1 * statval + d0_s1 * statval_quad\"\n",
    "    \n",
    "    # Fit the model\n",
    "    model = smf.ols(formula, data=baseline_data).fit()\n",
    "    \n",
    "    # Print the summary\n",
    "    print(f\"Model summary for {outcome}:\")\n",
    "    print(model.summary())\n",
    "    print(\"\\n\")"
   ]
  },
  {
   "cell_type": "markdown",
   "id": "e1b18fe1",
   "metadata": {},
   "source": [
    "### Hypothesis 3"
   ]
  },
  {
   "cell_type": "code",
   "execution_count": 12,
   "id": "f691aad2",
   "metadata": {},
   "outputs": [
    {
     "name": "stdout",
     "output_type": "stream",
     "text": [
      "425\n"
     ]
    }
   ],
   "source": [
    "#Selection statval of initial behavior (t=1)\n",
    "initial_behavior = combined_data[combined_data['t'] == 1][['ID', 'd0_s1', 'statval']]\n",
    "\n",
    "#Selection impression, warmth and competence ratings from final evaluation rating (t=40)\n",
    "last_effectiveness_rating = combined_data[combined_data['t'] == 40][['ID', 'impr', 'warm', 'comp']]\n",
    "\n",
    "#Merge the two\n",
    "merged_data = pd.merge(initial_behavior, last_effectiveness_rating, on = 'ID')\n",
    "print(len(merged_data))\n",
    "\n",
    "#Separate italy_selection and prolific_selection\n",
    "italy_selection = merged_data[merged_data['ID'].str.contains('sample_italy_')]\n",
    "prolific_selection = merged_data[merged_data['ID'].str.contains('sample_prolific_')]"
   ]
  },
  {
   "cell_type": "markdown",
   "id": "563ca1f9",
   "metadata": {},
   "source": [
    "#### Merged data files"
   ]
  },
  {
   "cell_type": "code",
   "execution_count": 13,
   "id": "0ee39722",
   "metadata": {},
   "outputs": [
    {
     "name": "stdout",
     "output_type": "stream",
     "text": [
      "                            OLS Regression Results                            \n",
      "==============================================================================\n",
      "Dep. Variable:                   impr   R-squared:                       0.006\n",
      "Model:                            OLS   Adj. R-squared:                 -0.001\n",
      "Method:                 Least Squares   F-statistic:                    0.8032\n",
      "Date:                Sun, 04 May 2025   Prob (F-statistic):              0.493\n",
      "Time:                        17:59:49   Log-Likelihood:                -882.15\n",
      "No. Observations:                 425   AIC:                             1772.\n",
      "Df Residuals:                     421   BIC:                             1789.\n",
      "Df Model:                           3                                         \n",
      "Covariance Type:            nonrobust                                         \n",
      "=================================================================================\n",
      "                    coef    std err          t      P>|t|      [0.025      0.975]\n",
      "---------------------------------------------------------------------------------\n",
      "Intercept        -0.0597      0.133     -0.450      0.653      -0.320       0.201\n",
      "statval           0.2231      0.147      1.513      0.131      -0.067       0.513\n",
      "d0_s1            -0.0098      0.188     -0.052      0.959      -0.380       0.360\n",
      "statval:d0_s1    -0.1753      0.207     -0.845      0.399      -0.583       0.232\n",
      "==============================================================================\n",
      "Omnibus:                      234.048   Durbin-Watson:                   2.022\n",
      "Prob(Omnibus):                  0.000   Jarque-Bera (JB):               25.086\n",
      "Skew:                          -0.050   Prob(JB):                     3.57e-06\n",
      "Kurtosis:                       1.814   Cond. No.                         2.90\n",
      "==============================================================================\n",
      "\n",
      "Notes:\n",
      "[1] Standard Errors assume that the covariance matrix of the errors is correctly specified.\n"
     ]
    }
   ],
   "source": [
    "#data=merged_data\n",
    "formula = \"impr ~ statval * d0_s1\"\n",
    "model1 = smf.ols(formula, data=merged_data).fit()\n",
    "print(model1.summary())\n"
   ]
  },
  {
   "cell_type": "markdown",
   "id": "014dd876",
   "metadata": {},
   "source": [
    "#### Sample data 1 (Italy)"
   ]
  },
  {
   "cell_type": "code",
   "execution_count": 14,
   "id": "fd2aaf30",
   "metadata": {},
   "outputs": [
    {
     "name": "stdout",
     "output_type": "stream",
     "text": [
      "                            OLS Regression Results                            \n",
      "==============================================================================\n",
      "Dep. Variable:                   impr   R-squared:                       0.005\n",
      "Model:                            OLS   Adj. R-squared:                 -0.009\n",
      "Method:                 Least Squares   F-statistic:                    0.3294\n",
      "Date:                Sun, 04 May 2025   Prob (F-statistic):              0.804\n",
      "Time:                        17:59:49   Log-Likelihood:                -447.53\n",
      "No. Observations:                 219   AIC:                             903.1\n",
      "Df Residuals:                     215   BIC:                             916.6\n",
      "Df Model:                           3                                         \n",
      "Covariance Type:            nonrobust                                         \n",
      "=================================================================================\n",
      "                    coef    std err          t      P>|t|      [0.025      0.975]\n",
      "---------------------------------------------------------------------------------\n",
      "Intercept         0.0893      0.184      0.486      0.627      -0.273       0.451\n",
      "statval          -0.0813      0.211     -0.385      0.701      -0.498       0.335\n",
      "d0_s1            -0.0135      0.258     -0.052      0.958      -0.523       0.495\n",
      "statval:d0_s1     0.2605      0.288      0.905      0.366      -0.307       0.828\n",
      "==============================================================================\n",
      "Omnibus:                       75.812   Durbin-Watson:                   2.013\n",
      "Prob(Omnibus):                  0.000   Jarque-Bera (JB):               12.230\n",
      "Skew:                          -0.101   Prob(JB):                      0.00221\n",
      "Kurtosis:                       1.860   Cond. No.                         3.12\n",
      "==============================================================================\n",
      "\n",
      "Notes:\n",
      "[1] Standard Errors assume that the covariance matrix of the errors is correctly specified.\n"
     ]
    }
   ],
   "source": [
    "#data=italy_selection\n",
    "model_italy = smf.ols(formula, data=italy_selection).fit()\n",
    "print(model_italy.summary())\n"
   ]
  },
  {
   "cell_type": "markdown",
   "id": "9bc9aa5c",
   "metadata": {},
   "source": [
    "#### Sample data 2 (Prolific Academic)"
   ]
  },
  {
   "cell_type": "code",
   "execution_count": 15,
   "id": "d72d42eb",
   "metadata": {},
   "outputs": [
    {
     "name": "stdout",
     "output_type": "stream",
     "text": [
      "                            OLS Regression Results                            \n",
      "==============================================================================\n",
      "Dep. Variable:                   impr   R-squared:                       0.024\n",
      "Model:                            OLS   Adj. R-squared:                  0.010\n",
      "Method:                 Least Squares   F-statistic:                     1.683\n",
      "Date:                Sun, 04 May 2025   Prob (F-statistic):              0.172\n",
      "Time:                        17:59:50   Log-Likelihood:                -431.33\n",
      "No. Observations:                 206   AIC:                             870.7\n",
      "Df Residuals:                     202   BIC:                             884.0\n",
      "Df Model:                           3                                         \n",
      "Covariance Type:            nonrobust                                         \n",
      "=================================================================================\n",
      "                    coef    std err          t      P>|t|      [0.025      0.975]\n",
      "---------------------------------------------------------------------------------\n",
      "Intercept        -0.1249      0.197     -0.633      0.527      -0.514       0.264\n",
      "statval           0.4640      0.212      2.187      0.030       0.046       0.882\n",
      "d0_s1            -0.1052      0.278     -0.378      0.706      -0.654       0.443\n",
      "statval:d0_s1    -0.5717      0.304     -1.883      0.061      -1.170       0.027\n",
      "==============================================================================\n",
      "Omnibus:                       98.853   Durbin-Watson:                   2.048\n",
      "Prob(Omnibus):                  0.000   Jarque-Bera (JB):               12.525\n",
      "Skew:                           0.046   Prob(JB):                      0.00191\n",
      "Kurtosis:                       1.795   Cond. No.                         3.00\n",
      "==============================================================================\n",
      "\n",
      "Notes:\n",
      "[1] Standard Errors assume that the covariance matrix of the errors is correctly specified.\n"
     ]
    }
   ],
   "source": [
    "#data=prolific_selection\n",
    "model_prolific = smf.ols(formula, data=prolific_selection).fit()\n",
    "print(model_prolific.summary())\n"
   ]
  },
  {
   "cell_type": "markdown",
   "id": "2bcb2e7e",
   "metadata": {},
   "source": [
    "#### Simple slope testing"
   ]
  },
  {
   "cell_type": "code",
   "execution_count": 16,
   "id": "290339bc",
   "metadata": {},
   "outputs": [
    {
     "name": "stdout",
     "output_type": "stream",
     "text": [
      "Effect of d0_s1 at statval = 0: b = 0.55, SE = 0.70, t(31.0) = 0.79, p = 0.437\n",
      "Effect of d0_s1 at statval = 1: b = -0.86, SE = 0.46, t(74.0) = -1.84, p = 0.069\n",
      "Effect of d0_s1 at statval = -1: b = 0.32, SE = 0.39, t(95.0) = 0.81, p = 0.422\n"
     ]
    }
   ],
   "source": [
    "model_prolific = smf.ols('impr ~ C(statval) * d0_s1', data=prolific_selection).fit()\n",
    "\n",
    "# Get the levels of statval\n",
    "statval_levels = prolific_selection['statval'].unique()\n",
    "\n",
    "for level in statval_levels:\n",
    "    level_data = prolific_selection[prolific_selection['statval'] == level]\n",
    "    level_model = smf.ols('impr ~ d0_s1', data=level_data).fit()\n",
    "    b = level_model.params['d0_s1']\n",
    "    se = level_model.bse['d0_s1']\n",
    "    t = level_model.tvalues['d0_s1']\n",
    "    p = level_model.pvalues['d0_s1']\n",
    "    df = level_model.df_resid\n",
    "    print(f\"Effect of d0_s1 at statval = {level}: b = {b:.2f}, SE = {se:.2f}, t({df}) = {t:.2f}, p = {p:.3f}\")\n"
   ]
  },
  {
   "cell_type": "code",
   "execution_count": 17,
   "id": "8b719aa7",
   "metadata": {},
   "outputs": [
    {
     "name": "stdout",
     "output_type": "stream",
     "text": [
      "Effect of statval at d0_s1 = 0.0: b = 0.46, SE = 0.20, t(101.0) = 2.26, p = 0.026\n",
      "Effect of statval at d0_s1 = 1.0: b = -0.11, SE = 0.22, t(101.0) = -0.48, p = 0.632\n"
     ]
    }
   ],
   "source": [
    "# Get the unique levels of d0_s1\n",
    "d0_s1_levels = prolific_selection['d0_s1'].unique()\n",
    "\n",
    "for level in d0_s1_levels:\n",
    "    level_data = prolific_selection[prolific_selection['d0_s1'] == level]\n",
    "    level_model = smf.ols('impr ~ statval', data=level_data).fit()\n",
    "    b = level_model.params['statval']\n",
    "    se = level_model.bse['statval']\n",
    "    t = level_model.tvalues['statval']\n",
    "    p = level_model.pvalues['statval']\n",
    "    df = level_model.df_resid\n",
    "    print(f\"Effect of statval at d0_s1 = {level}: b = {b:.2f}, SE = {se:.2f}, t({df}) = {t:.2f}, p = {p:.3f}\")\n"
   ]
  },
  {
   "cell_type": "code",
   "execution_count": 18,
   "id": "a63c1510",
   "metadata": {},
   "outputs": [
    {
     "name": "stdout",
     "output_type": "stream",
     "text": [
      "Effect of statval = 1 at d0_s1 = 0.0: b = 0.15, SE = 0.15, t(37.0) = 0.99, p = 0.330\n",
      "Effect of statval = 0 at d0_s1 = 0.0: b = 0.00, SE = 0.00, t(13.0) = nan, p = nan\n",
      "Effect of statval = -1 at d0_s1 = 0.0: b = 0.31, SE = 0.13, t(50.0) = 2.35, p = 0.023\n",
      "Effect of statval = 1 at d0_s1 = 1.0: b = -0.28, SE = 0.18, t(37.0) = -1.58, p = 0.123\n",
      "Effect of statval = 0 at d0_s1 = 1.0: b = 0.00, SE = 0.00, t(18.0) = nan, p = nan\n",
      "Effect of statval = -1 at d0_s1 = 1.0: b = 0.15, SE = 0.14, t(45.0) = 1.06, p = 0.295\n"
     ]
    }
   ],
   "source": [
    "# Get the unique levels of d0_s1\n",
    "d0_s1_levels = prolific_selection['d0_s1'].unique()\n",
    "statval_levels = [1, 0, -1]  # Values for statval that we are interested in\n",
    "\n",
    "for level in d0_s1_levels:\n",
    "    for statval_level in statval_levels:\n",
    "        # Filter the data for the current d0_s1 level and statval level\n",
    "        level_data = prolific_selection[(prolific_selection['d0_s1'] == level) & \n",
    "                                        (prolific_selection['statval'] == statval_level)]\n",
    "        \n",
    "        if len(level_data) > 0:  # Check if there is data for this combination\n",
    "            level_model = smf.ols('impr ~ statval', data=level_data).fit()\n",
    "            b = level_model.params['statval']\n",
    "            se = level_model.bse['statval']\n",
    "            t = level_model.tvalues['statval']\n",
    "            p = level_model.pvalues['statval']\n",
    "            df = level_model.df_resid\n",
    "            \n",
    "            # Print the results for each combination of d0_s1 and statval\n",
    "            print(f\"Effect of statval = {statval_level} at d0_s1 = {level}: b = {b:.2f}, SE = {se:.2f}, t({df}) = {t:.2f}, p = {p:.3f}\")\n",
    "        else:\n",
    "            print(f\"No data for statval = {statval_level} at d0_s1 = {level}\")\n"
   ]
  }
 ],
 "metadata": {
  "kernelspec": {
   "display_name": "Python (everydaybehavior)",
   "language": "python",
   "name": "everydaybehaviorvenv"
  },
  "language_info": {
   "codemirror_mode": {
    "name": "ipython",
    "version": 3
   },
   "file_extension": ".py",
   "mimetype": "text/x-python",
   "name": "python",
   "nbconvert_exporter": "python",
   "pygments_lexer": "ipython3",
   "version": "3.12.6"
  }
 },
 "nbformat": 4,
 "nbformat_minor": 5
}
